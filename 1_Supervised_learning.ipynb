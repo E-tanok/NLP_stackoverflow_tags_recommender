{
 "cells": [
  {
   "cell_type": "markdown",
   "metadata": {},
   "source": [
    "<!--NOTEBOOK_INFORMATION-->\n",
    "<img id=\"r-1060983\" data-claire-element-id=\"1061343\" src=\"http://www.siteduzero.com/favicon.ico\" alt=\"Image utilisateur\">\n",
    "    <p>\n",
    "        **<font color='#D2691E'size=\"6\">Tags recommendation (2/7)</font>**.\n",
    "    </p>\n",
    "    <p>\n",
    "        This Notebook contains the project's supervised learning steps\n",
    "    </p>"
   ]
  },
  {
   "cell_type": "markdown",
   "metadata": {},
   "source": [
    "<p>\n",
    "    <center>\n",
    "        **<font color='\t#D2691E'size=\"6\">PLAN</font>**\n",
    "    </center>\n",
    "</p>\n",
    "\n",
    "<p>\n",
    "        **<font color='#D2691E'size=\"4\">0) Libraries, functions and datasources import</font>**\n",
    "</p>\n",
    "<p>\n",
    "        **<font color='#D2691E'size=\"4\">I) Supervised learning settings</font>**\n",
    "</p>\n",
    "<p>\n",
    "        **<font color='#D2691E'size=\"4\">II)Logistic regression</font>**\n",
    "</p>\n",
    "<p>\n",
    "        **<font color='#D2691E'size=\"4\">II.1) Logistic regression : cross validation</font>**\n",
    "</p>\n",
    "<p>\n",
    "        **<font color='#D2691E'size=\"4\">II.2) Logistic regression : applying on the test data</font>**\n",
    "</p>\n",
    "<p>\n",
    "        **<font color='#D2691E'size=\"4\">II.3) Logistic regression : final model</font>**\n",
    "</p>\n",
    "<p>\n",
    "        **<font color='#D2691E'size=\"4\">III) Support Vector Classifier</font>**\n",
    "</p>\n",
    "<p>\n",
    "        **<font color='#D2691E'size=\"4\">III.1) Support Vector Classifier : cross validation</font>**\n",
    "</p>\n",
    "<p>\n",
    "        **<font color='#D2691E'size=\"4\">III.2) Support Vector Classifier : applying on the test data</font>**\n",
    "</p>\n",
    "<p>\n",
    "        **<font color='#D2691E'size=\"4\">III.3) Support Vector Classifier : final model</font>**\n",
    "</p>\n",
    "<p>\n",
    "        **<font color='#D2691E'size=\"4\">IV) Random Forest</font>**\n",
    "</p>\n",
    "<p>\n",
    "        **<font color='#D2691E'size=\"4\">IV.1) Random Forest : cross validation</font>**\n",
    "</p>\n",
    "<p>\n",
    "        **<font color='#D2691E'size=\"4\">IV.2) Random Forest : applying on the test data</font>**\n",
    "</p>\n",
    "<p>\n",
    "        **<font color='#D2691E'size=\"4\">IV.3) Random Forest : final model</font>**\n",
    "</p>\n"
   ]
  },
  {
   "cell_type": "markdown",
   "metadata": {},
   "source": [
    "<p>\n",
    "        **<font color='#D2691E'size=\"4\">0) Libraries, functions and datasources import</font>**\n",
    "</p>"
   ]
  },
  {
   "cell_type": "code",
   "execution_count": 1,
   "metadata": {},
   "outputs": [],
   "source": [
    "import pandas as pd\n",
    "import pickle\n",
    "import time"
   ]
  },
  {
   "cell_type": "code",
   "execution_count": 2,
   "metadata": {},
   "outputs": [],
   "source": [
    "global_start_time = time.time()"
   ]
  },
  {
   "cell_type": "code",
   "execution_count": 3,
   "metadata": {},
   "outputs": [],
   "source": [
    "from context import dir_path, datasources_path, enrichment_path, pickles_path, temp_files_path"
   ]
  },
  {
   "cell_type": "code",
   "execution_count": 4,
   "metadata": {
    "scrolled": true
   },
   "outputs": [],
   "source": [
    "df_model_train = pickle.load(open(pickles_path+\"df_model_train.p\", \"rb\" ))\n",
    "df_model_test = pickle.load(open(pickles_path+\"df_model_test.p\", \"rb\" ))\n",
    "\n",
    "df_model_tf_idf_train = pickle.load(open(pickles_path+\"df_model_tf_idf_train.p\", \"rb\" ))\n",
    "df_model_tf_idf_test = pickle.load(open(pickles_path+\"df_model_tf_idf_test.p\", \"rb\" ))"
   ]
  },
  {
   "cell_type": "markdown",
   "metadata": {},
   "source": [
    "<p>\n",
    "        **<font color='#D2691E'size=\"4\">I) Supervised learning settings</font>**\n",
    "</p>"
   ]
  },
  {
   "cell_type": "code",
   "execution_count": 5,
   "metadata": {},
   "outputs": [],
   "source": [
    "from sklearn.linear_model import LogisticRegression\n",
    "from sklearn.svm import LinearSVC\n",
    "from sklearn.ensemble import RandomForestClassifier\n",
    "from sklearn import metrics"
   ]
  },
  {
   "cell_type": "code",
   "execution_count": 6,
   "metadata": {},
   "outputs": [],
   "source": [
    "predict_columns = [col for col in df_model_train.columns if not col in ['id','Text','tag_to_predict']]"
   ]
  },
  {
   "cell_type": "code",
   "execution_count": 7,
   "metadata": {},
   "outputs": [],
   "source": [
    "X_count_train = df_model_train[predict_columns].values\n",
    "X_count_test = df_model_test[predict_columns].values\n",
    "\n",
    "X_tfidf_train = df_model_tf_idf_train[predict_columns].values\n",
    "X_tfidf_test = df_model_tf_idf_test[predict_columns].values\n",
    "\n",
    "y_train = pickle.load(open(pickles_path+\"y_train.p\", \"rb\" ))\n",
    "y_test = pickle.load(open(pickles_path+\"y_test.p\", \"rb\" ))"
   ]
  },
  {
   "cell_type": "code",
   "execution_count": 8,
   "metadata": {},
   "outputs": [],
   "source": [
    "from sklearn import model_selection"
   ]
  },
  {
   "cell_type": "markdown",
   "metadata": {},
   "source": [
    "<p>\n",
    "        **<font color='#D2691E'size=\"4\">II) Logistic regression</font>**\n",
    "</p>"
   ]
  },
  {
   "cell_type": "markdown",
   "metadata": {},
   "source": [
    "<p>\n",
    "        **<font color='#D2691E'size=\"4\">II.1) Logistic regression : cross validation</font>**\n",
    "</p>"
   ]
  },
  {
   "cell_type": "code",
   "execution_count": 9,
   "metadata": {},
   "outputs": [],
   "source": [
    "clf_lr_count  = model_selection.GridSearchCV(LogisticRegression(),\n",
    "                                      {'penalty':['l1','l2'],\n",
    "                                      'C':[0.1,0.5,1.0],\n",
    "                                      'n_jobs':[4]},\n",
    "                                      cv = 5,\n",
    "                                      scoring = 'accuracy')\n",
    "clf_lr_tfidf  = model_selection.GridSearchCV(LogisticRegression(),\n",
    "                                      {'penalty':['l1','l2'],\n",
    "                                      'C':[0.1,0.5,1.0],\n",
    "                                      'n_jobs':[4]},\n",
    "                                      cv = 5,\n",
    "                                      scoring = 'accuracy')\n",
    "#C : Inverse of regularization strength; must be a positive float. Like in support vector machines, smaller values specify \n",
    "#stronger regularization."
   ]
  },
  {
   "cell_type": "code",
   "execution_count": 10,
   "metadata": {
    "scrolled": true
   },
   "outputs": [
    {
     "name": "stderr",
     "output_type": "stream",
     "text": [
      "c:\\python\\python36\\lib\\site-packages\\sklearn\\model_selection\\_split.py:605: Warning: The least populated class in y has only 4 members, which is too few. The minimum number of members in any class cannot be less than n_splits=5.\n",
      "  % (min_groups, self.n_splits)), Warning)\n",
      "c:\\python\\python36\\lib\\site-packages\\sklearn\\linear_model\\logistic.py:1228: UserWarning: 'n_jobs' > 1 does not have any effect when 'solver' is set to 'liblinear'. Got 'n_jobs' = 4.\n",
      "  \" = {}.\".format(self.n_jobs))\n",
      "c:\\python\\python36\\lib\\site-packages\\sklearn\\linear_model\\logistic.py:1228: UserWarning: 'n_jobs' > 1 does not have any effect when 'solver' is set to 'liblinear'. Got 'n_jobs' = 4.\n",
      "  \" = {}.\".format(self.n_jobs))\n",
      "c:\\python\\python36\\lib\\site-packages\\sklearn\\linear_model\\logistic.py:1228: UserWarning: 'n_jobs' > 1 does not have any effect when 'solver' is set to 'liblinear'. Got 'n_jobs' = 4.\n",
      "  \" = {}.\".format(self.n_jobs))\n",
      "c:\\python\\python36\\lib\\site-packages\\sklearn\\linear_model\\logistic.py:1228: UserWarning: 'n_jobs' > 1 does not have any effect when 'solver' is set to 'liblinear'. Got 'n_jobs' = 4.\n",
      "  \" = {}.\".format(self.n_jobs))\n",
      "c:\\python\\python36\\lib\\site-packages\\sklearn\\linear_model\\logistic.py:1228: UserWarning: 'n_jobs' > 1 does not have any effect when 'solver' is set to 'liblinear'. Got 'n_jobs' = 4.\n",
      "  \" = {}.\".format(self.n_jobs))\n",
      "c:\\python\\python36\\lib\\site-packages\\sklearn\\linear_model\\logistic.py:1228: UserWarning: 'n_jobs' > 1 does not have any effect when 'solver' is set to 'liblinear'. Got 'n_jobs' = 4.\n",
      "  \" = {}.\".format(self.n_jobs))\n",
      "c:\\python\\python36\\lib\\site-packages\\sklearn\\linear_model\\logistic.py:1228: UserWarning: 'n_jobs' > 1 does not have any effect when 'solver' is set to 'liblinear'. Got 'n_jobs' = 4.\n",
      "  \" = {}.\".format(self.n_jobs))\n",
      "c:\\python\\python36\\lib\\site-packages\\sklearn\\linear_model\\logistic.py:1228: UserWarning: 'n_jobs' > 1 does not have any effect when 'solver' is set to 'liblinear'. Got 'n_jobs' = 4.\n",
      "  \" = {}.\".format(self.n_jobs))\n",
      "c:\\python\\python36\\lib\\site-packages\\sklearn\\linear_model\\logistic.py:1228: UserWarning: 'n_jobs' > 1 does not have any effect when 'solver' is set to 'liblinear'. Got 'n_jobs' = 4.\n",
      "  \" = {}.\".format(self.n_jobs))\n",
      "c:\\python\\python36\\lib\\site-packages\\sklearn\\linear_model\\logistic.py:1228: UserWarning: 'n_jobs' > 1 does not have any effect when 'solver' is set to 'liblinear'. Got 'n_jobs' = 4.\n",
      "  \" = {}.\".format(self.n_jobs))\n",
      "c:\\python\\python36\\lib\\site-packages\\sklearn\\linear_model\\logistic.py:1228: UserWarning: 'n_jobs' > 1 does not have any effect when 'solver' is set to 'liblinear'. Got 'n_jobs' = 4.\n",
      "  \" = {}.\".format(self.n_jobs))\n",
      "c:\\python\\python36\\lib\\site-packages\\sklearn\\linear_model\\logistic.py:1228: UserWarning: 'n_jobs' > 1 does not have any effect when 'solver' is set to 'liblinear'. Got 'n_jobs' = 4.\n",
      "  \" = {}.\".format(self.n_jobs))\n",
      "c:\\python\\python36\\lib\\site-packages\\sklearn\\linear_model\\logistic.py:1228: UserWarning: 'n_jobs' > 1 does not have any effect when 'solver' is set to 'liblinear'. Got 'n_jobs' = 4.\n",
      "  \" = {}.\".format(self.n_jobs))\n",
      "c:\\python\\python36\\lib\\site-packages\\sklearn\\linear_model\\logistic.py:1228: UserWarning: 'n_jobs' > 1 does not have any effect when 'solver' is set to 'liblinear'. Got 'n_jobs' = 4.\n",
      "  \" = {}.\".format(self.n_jobs))\n",
      "c:\\python\\python36\\lib\\site-packages\\sklearn\\linear_model\\logistic.py:1228: UserWarning: 'n_jobs' > 1 does not have any effect when 'solver' is set to 'liblinear'. Got 'n_jobs' = 4.\n",
      "  \" = {}.\".format(self.n_jobs))\n",
      "c:\\python\\python36\\lib\\site-packages\\sklearn\\linear_model\\logistic.py:1228: UserWarning: 'n_jobs' > 1 does not have any effect when 'solver' is set to 'liblinear'. Got 'n_jobs' = 4.\n",
      "  \" = {}.\".format(self.n_jobs))\n",
      "c:\\python\\python36\\lib\\site-packages\\sklearn\\linear_model\\logistic.py:1228: UserWarning: 'n_jobs' > 1 does not have any effect when 'solver' is set to 'liblinear'. Got 'n_jobs' = 4.\n",
      "  \" = {}.\".format(self.n_jobs))\n",
      "c:\\python\\python36\\lib\\site-packages\\sklearn\\linear_model\\logistic.py:1228: UserWarning: 'n_jobs' > 1 does not have any effect when 'solver' is set to 'liblinear'. Got 'n_jobs' = 4.\n",
      "  \" = {}.\".format(self.n_jobs))\n",
      "c:\\python\\python36\\lib\\site-packages\\sklearn\\linear_model\\logistic.py:1228: UserWarning: 'n_jobs' > 1 does not have any effect when 'solver' is set to 'liblinear'. Got 'n_jobs' = 4.\n",
      "  \" = {}.\".format(self.n_jobs))\n",
      "c:\\python\\python36\\lib\\site-packages\\sklearn\\linear_model\\logistic.py:1228: UserWarning: 'n_jobs' > 1 does not have any effect when 'solver' is set to 'liblinear'. Got 'n_jobs' = 4.\n",
      "  \" = {}.\".format(self.n_jobs))\n",
      "c:\\python\\python36\\lib\\site-packages\\sklearn\\linear_model\\logistic.py:1228: UserWarning: 'n_jobs' > 1 does not have any effect when 'solver' is set to 'liblinear'. Got 'n_jobs' = 4.\n",
      "  \" = {}.\".format(self.n_jobs))\n",
      "c:\\python\\python36\\lib\\site-packages\\sklearn\\linear_model\\logistic.py:1228: UserWarning: 'n_jobs' > 1 does not have any effect when 'solver' is set to 'liblinear'. Got 'n_jobs' = 4.\n",
      "  \" = {}.\".format(self.n_jobs))\n",
      "c:\\python\\python36\\lib\\site-packages\\sklearn\\linear_model\\logistic.py:1228: UserWarning: 'n_jobs' > 1 does not have any effect when 'solver' is set to 'liblinear'. Got 'n_jobs' = 4.\n",
      "  \" = {}.\".format(self.n_jobs))\n",
      "c:\\python\\python36\\lib\\site-packages\\sklearn\\linear_model\\logistic.py:1228: UserWarning: 'n_jobs' > 1 does not have any effect when 'solver' is set to 'liblinear'. Got 'n_jobs' = 4.\n",
      "  \" = {}.\".format(self.n_jobs))\n",
      "c:\\python\\python36\\lib\\site-packages\\sklearn\\linear_model\\logistic.py:1228: UserWarning: 'n_jobs' > 1 does not have any effect when 'solver' is set to 'liblinear'. Got 'n_jobs' = 4.\n",
      "  \" = {}.\".format(self.n_jobs))\n",
      "c:\\python\\python36\\lib\\site-packages\\sklearn\\linear_model\\logistic.py:1228: UserWarning: 'n_jobs' > 1 does not have any effect when 'solver' is set to 'liblinear'. Got 'n_jobs' = 4.\n",
      "  \" = {}.\".format(self.n_jobs))\n",
      "c:\\python\\python36\\lib\\site-packages\\sklearn\\linear_model\\logistic.py:1228: UserWarning: 'n_jobs' > 1 does not have any effect when 'solver' is set to 'liblinear'. Got 'n_jobs' = 4.\n",
      "  \" = {}.\".format(self.n_jobs))\n",
      "c:\\python\\python36\\lib\\site-packages\\sklearn\\linear_model\\logistic.py:1228: UserWarning: 'n_jobs' > 1 does not have any effect when 'solver' is set to 'liblinear'. Got 'n_jobs' = 4.\n",
      "  \" = {}.\".format(self.n_jobs))\n",
      "c:\\python\\python36\\lib\\site-packages\\sklearn\\linear_model\\logistic.py:1228: UserWarning: 'n_jobs' > 1 does not have any effect when 'solver' is set to 'liblinear'. Got 'n_jobs' = 4.\n",
      "  \" = {}.\".format(self.n_jobs))\n",
      "c:\\python\\python36\\lib\\site-packages\\sklearn\\linear_model\\logistic.py:1228: UserWarning: 'n_jobs' > 1 does not have any effect when 'solver' is set to 'liblinear'. Got 'n_jobs' = 4.\n",
      "  \" = {}.\".format(self.n_jobs))\n",
      "c:\\python\\python36\\lib\\site-packages\\sklearn\\linear_model\\logistic.py:1228: UserWarning: 'n_jobs' > 1 does not have any effect when 'solver' is set to 'liblinear'. Got 'n_jobs' = 4.\n",
      "  \" = {}.\".format(self.n_jobs))\n"
     ]
    },
    {
     "name": "stdout",
     "output_type": "stream",
     "text": [
      "--- 963.9349012374878 seconds to fit the lr_count model---\n"
     ]
    },
    {
     "name": "stderr",
     "output_type": "stream",
     "text": [
      "c:\\python\\python36\\lib\\site-packages\\sklearn\\model_selection\\_split.py:605: Warning: The least populated class in y has only 4 members, which is too few. The minimum number of members in any class cannot be less than n_splits=5.\n",
      "  % (min_groups, self.n_splits)), Warning)\n",
      "c:\\python\\python36\\lib\\site-packages\\sklearn\\linear_model\\logistic.py:1228: UserWarning: 'n_jobs' > 1 does not have any effect when 'solver' is set to 'liblinear'. Got 'n_jobs' = 4.\n",
      "  \" = {}.\".format(self.n_jobs))\n",
      "c:\\python\\python36\\lib\\site-packages\\sklearn\\linear_model\\logistic.py:1228: UserWarning: 'n_jobs' > 1 does not have any effect when 'solver' is set to 'liblinear'. Got 'n_jobs' = 4.\n",
      "  \" = {}.\".format(self.n_jobs))\n",
      "c:\\python\\python36\\lib\\site-packages\\sklearn\\linear_model\\logistic.py:1228: UserWarning: 'n_jobs' > 1 does not have any effect when 'solver' is set to 'liblinear'. Got 'n_jobs' = 4.\n",
      "  \" = {}.\".format(self.n_jobs))\n",
      "c:\\python\\python36\\lib\\site-packages\\sklearn\\linear_model\\logistic.py:1228: UserWarning: 'n_jobs' > 1 does not have any effect when 'solver' is set to 'liblinear'. Got 'n_jobs' = 4.\n",
      "  \" = {}.\".format(self.n_jobs))\n",
      "c:\\python\\python36\\lib\\site-packages\\sklearn\\linear_model\\logistic.py:1228: UserWarning: 'n_jobs' > 1 does not have any effect when 'solver' is set to 'liblinear'. Got 'n_jobs' = 4.\n",
      "  \" = {}.\".format(self.n_jobs))\n",
      "c:\\python\\python36\\lib\\site-packages\\sklearn\\linear_model\\logistic.py:1228: UserWarning: 'n_jobs' > 1 does not have any effect when 'solver' is set to 'liblinear'. Got 'n_jobs' = 4.\n",
      "  \" = {}.\".format(self.n_jobs))\n",
      "c:\\python\\python36\\lib\\site-packages\\sklearn\\linear_model\\logistic.py:1228: UserWarning: 'n_jobs' > 1 does not have any effect when 'solver' is set to 'liblinear'. Got 'n_jobs' = 4.\n",
      "  \" = {}.\".format(self.n_jobs))\n",
      "c:\\python\\python36\\lib\\site-packages\\sklearn\\linear_model\\logistic.py:1228: UserWarning: 'n_jobs' > 1 does not have any effect when 'solver' is set to 'liblinear'. Got 'n_jobs' = 4.\n",
      "  \" = {}.\".format(self.n_jobs))\n",
      "c:\\python\\python36\\lib\\site-packages\\sklearn\\linear_model\\logistic.py:1228: UserWarning: 'n_jobs' > 1 does not have any effect when 'solver' is set to 'liblinear'. Got 'n_jobs' = 4.\n",
      "  \" = {}.\".format(self.n_jobs))\n",
      "c:\\python\\python36\\lib\\site-packages\\sklearn\\linear_model\\logistic.py:1228: UserWarning: 'n_jobs' > 1 does not have any effect when 'solver' is set to 'liblinear'. Got 'n_jobs' = 4.\n",
      "  \" = {}.\".format(self.n_jobs))\n",
      "c:\\python\\python36\\lib\\site-packages\\sklearn\\linear_model\\logistic.py:1228: UserWarning: 'n_jobs' > 1 does not have any effect when 'solver' is set to 'liblinear'. Got 'n_jobs' = 4.\n",
      "  \" = {}.\".format(self.n_jobs))\n",
      "c:\\python\\python36\\lib\\site-packages\\sklearn\\linear_model\\logistic.py:1228: UserWarning: 'n_jobs' > 1 does not have any effect when 'solver' is set to 'liblinear'. Got 'n_jobs' = 4.\n",
      "  \" = {}.\".format(self.n_jobs))\n",
      "c:\\python\\python36\\lib\\site-packages\\sklearn\\linear_model\\logistic.py:1228: UserWarning: 'n_jobs' > 1 does not have any effect when 'solver' is set to 'liblinear'. Got 'n_jobs' = 4.\n",
      "  \" = {}.\".format(self.n_jobs))\n",
      "c:\\python\\python36\\lib\\site-packages\\sklearn\\linear_model\\logistic.py:1228: UserWarning: 'n_jobs' > 1 does not have any effect when 'solver' is set to 'liblinear'. Got 'n_jobs' = 4.\n",
      "  \" = {}.\".format(self.n_jobs))\n",
      "c:\\python\\python36\\lib\\site-packages\\sklearn\\linear_model\\logistic.py:1228: UserWarning: 'n_jobs' > 1 does not have any effect when 'solver' is set to 'liblinear'. Got 'n_jobs' = 4.\n",
      "  \" = {}.\".format(self.n_jobs))\n",
      "c:\\python\\python36\\lib\\site-packages\\sklearn\\linear_model\\logistic.py:1228: UserWarning: 'n_jobs' > 1 does not have any effect when 'solver' is set to 'liblinear'. Got 'n_jobs' = 4.\n",
      "  \" = {}.\".format(self.n_jobs))\n",
      "c:\\python\\python36\\lib\\site-packages\\sklearn\\linear_model\\logistic.py:1228: UserWarning: 'n_jobs' > 1 does not have any effect when 'solver' is set to 'liblinear'. Got 'n_jobs' = 4.\n",
      "  \" = {}.\".format(self.n_jobs))\n",
      "c:\\python\\python36\\lib\\site-packages\\sklearn\\linear_model\\logistic.py:1228: UserWarning: 'n_jobs' > 1 does not have any effect when 'solver' is set to 'liblinear'. Got 'n_jobs' = 4.\n",
      "  \" = {}.\".format(self.n_jobs))\n",
      "c:\\python\\python36\\lib\\site-packages\\sklearn\\linear_model\\logistic.py:1228: UserWarning: 'n_jobs' > 1 does not have any effect when 'solver' is set to 'liblinear'. Got 'n_jobs' = 4.\n",
      "  \" = {}.\".format(self.n_jobs))\n",
      "c:\\python\\python36\\lib\\site-packages\\sklearn\\linear_model\\logistic.py:1228: UserWarning: 'n_jobs' > 1 does not have any effect when 'solver' is set to 'liblinear'. Got 'n_jobs' = 4.\n",
      "  \" = {}.\".format(self.n_jobs))\n",
      "c:\\python\\python36\\lib\\site-packages\\sklearn\\linear_model\\logistic.py:1228: UserWarning: 'n_jobs' > 1 does not have any effect when 'solver' is set to 'liblinear'. Got 'n_jobs' = 4.\n",
      "  \" = {}.\".format(self.n_jobs))\n",
      "c:\\python\\python36\\lib\\site-packages\\sklearn\\linear_model\\logistic.py:1228: UserWarning: 'n_jobs' > 1 does not have any effect when 'solver' is set to 'liblinear'. Got 'n_jobs' = 4.\n",
      "  \" = {}.\".format(self.n_jobs))\n",
      "c:\\python\\python36\\lib\\site-packages\\sklearn\\linear_model\\logistic.py:1228: UserWarning: 'n_jobs' > 1 does not have any effect when 'solver' is set to 'liblinear'. Got 'n_jobs' = 4.\n",
      "  \" = {}.\".format(self.n_jobs))\n",
      "c:\\python\\python36\\lib\\site-packages\\sklearn\\linear_model\\logistic.py:1228: UserWarning: 'n_jobs' > 1 does not have any effect when 'solver' is set to 'liblinear'. Got 'n_jobs' = 4.\n",
      "  \" = {}.\".format(self.n_jobs))\n",
      "c:\\python\\python36\\lib\\site-packages\\sklearn\\linear_model\\logistic.py:1228: UserWarning: 'n_jobs' > 1 does not have any effect when 'solver' is set to 'liblinear'. Got 'n_jobs' = 4.\n",
      "  \" = {}.\".format(self.n_jobs))\n",
      "c:\\python\\python36\\lib\\site-packages\\sklearn\\linear_model\\logistic.py:1228: UserWarning: 'n_jobs' > 1 does not have any effect when 'solver' is set to 'liblinear'. Got 'n_jobs' = 4.\n",
      "  \" = {}.\".format(self.n_jobs))\n",
      "c:\\python\\python36\\lib\\site-packages\\sklearn\\linear_model\\logistic.py:1228: UserWarning: 'n_jobs' > 1 does not have any effect when 'solver' is set to 'liblinear'. Got 'n_jobs' = 4.\n",
      "  \" = {}.\".format(self.n_jobs))\n",
      "c:\\python\\python36\\lib\\site-packages\\sklearn\\linear_model\\logistic.py:1228: UserWarning: 'n_jobs' > 1 does not have any effect when 'solver' is set to 'liblinear'. Got 'n_jobs' = 4.\n",
      "  \" = {}.\".format(self.n_jobs))\n",
      "c:\\python\\python36\\lib\\site-packages\\sklearn\\linear_model\\logistic.py:1228: UserWarning: 'n_jobs' > 1 does not have any effect when 'solver' is set to 'liblinear'. Got 'n_jobs' = 4.\n",
      "  \" = {}.\".format(self.n_jobs))\n",
      "c:\\python\\python36\\lib\\site-packages\\sklearn\\linear_model\\logistic.py:1228: UserWarning: 'n_jobs' > 1 does not have any effect when 'solver' is set to 'liblinear'. Got 'n_jobs' = 4.\n",
      "  \" = {}.\".format(self.n_jobs))\n",
      "c:\\python\\python36\\lib\\site-packages\\sklearn\\linear_model\\logistic.py:1228: UserWarning: 'n_jobs' > 1 does not have any effect when 'solver' is set to 'liblinear'. Got 'n_jobs' = 4.\n",
      "  \" = {}.\".format(self.n_jobs))\n"
     ]
    },
    {
     "name": "stdout",
     "output_type": "stream",
     "text": [
      "--- 405.70708656311035 seconds to fit the lr_tfidf model---\n"
     ]
    }
   ],
   "source": [
    "#We fit the grid search classifiers :\n",
    "start_time = time.time()\n",
    "clf_lr_count.fit(X_count_train,y_train)\n",
    "print(\"--- %s seconds to fit the lr_count model---\" % (time.time() - start_time))\n",
    "\n",
    "start_time = time.time()\n",
    "clf_lr_tfidf.fit(X_tfidf_train,y_train)\n",
    "print(\"--- %s seconds to fit the lr_tfidf model---\" % (time.time() - start_time))"
   ]
  },
  {
   "cell_type": "code",
   "execution_count": 11,
   "metadata": {},
   "outputs": [
    {
     "name": "stdout",
     "output_type": "stream",
     "text": [
      "best_params_lr_count : {'C': 0.1, 'n_jobs': 4, 'penalty': 'l1'}\n",
      "best_params_lr_tfidf : {'C': 0.1, 'n_jobs': 4, 'penalty': 'l1'}\n"
     ]
    }
   ],
   "source": [
    "#Bests parameters are : \n",
    "best_params_lr_count = clf_lr_count.best_params_\n",
    "best_params_lr_tfidf = clf_lr_count.best_params_\n",
    "print(\"best_params_lr_count : %s\"%best_params_lr_count)\n",
    "print(\"best_params_lr_tfidf : %s\"%best_params_lr_tfidf)"
   ]
  },
  {
   "cell_type": "code",
   "execution_count": 12,
   "metadata": {},
   "outputs": [
    {
     "name": "stdout",
     "output_type": "stream",
     "text": [
      "lr_count : \taccuracy = 0.273 (+/-0.017) for {'C': 0.1, 'n_jobs': 4, 'penalty': 'l1'}\n",
      "lr_count : \taccuracy = 0.231 (+/-0.050) for {'C': 0.1, 'n_jobs': 4, 'penalty': 'l2'}\n",
      "lr_count : \taccuracy = 0.246 (+/-0.030) for {'C': 0.5, 'n_jobs': 4, 'penalty': 'l1'}\n",
      "lr_count : \taccuracy = 0.206 (+/-0.062) for {'C': 0.5, 'n_jobs': 4, 'penalty': 'l2'}\n",
      "lr_count : \taccuracy = 0.209 (+/-0.041) for {'C': 1.0, 'n_jobs': 4, 'penalty': 'l1'}\n",
      "lr_count : \taccuracy = 0.205 (+/-0.064) for {'C': 1.0, 'n_jobs': 4, 'penalty': 'l2'}\n"
     ]
    }
   ],
   "source": [
    "#Resulting performances with each hyperparameters are : \n",
    "for mean, std, params in zip(clf_lr_count.cv_results_['mean_test_score'],\n",
    "                            clf_lr_count.cv_results_['std_test_score'],\n",
    "                            clf_lr_count.cv_results_['params']):\n",
    "    print('lr_count : \\taccuracy = %0.3f (+/-%0.3f) for %s'%(mean,std*2,params))"
   ]
  },
  {
   "cell_type": "code",
   "execution_count": 13,
   "metadata": {},
   "outputs": [
    {
     "name": "stdout",
     "output_type": "stream",
     "text": [
      "lr_tfidf : \taccuracy = 0.273 (+/-0.017) for {'C': 0.1, 'n_jobs': 4, 'penalty': 'l1'}\n",
      "lr_tfidf : \taccuracy = 0.231 (+/-0.050) for {'C': 0.1, 'n_jobs': 4, 'penalty': 'l2'}\n",
      "lr_tfidf : \taccuracy = 0.246 (+/-0.030) for {'C': 0.5, 'n_jobs': 4, 'penalty': 'l1'}\n",
      "lr_tfidf : \taccuracy = 0.206 (+/-0.062) for {'C': 0.5, 'n_jobs': 4, 'penalty': 'l2'}\n",
      "lr_tfidf : \taccuracy = 0.209 (+/-0.041) for {'C': 1.0, 'n_jobs': 4, 'penalty': 'l1'}\n",
      "lr_tfidf : \taccuracy = 0.205 (+/-0.064) for {'C': 1.0, 'n_jobs': 4, 'penalty': 'l2'}\n"
     ]
    }
   ],
   "source": [
    "for mean, std, params in zip(clf_lr_count.cv_results_['mean_test_score'],\n",
    "                            clf_lr_count.cv_results_['std_test_score'],\n",
    "                            clf_lr_count.cv_results_['params']):\n",
    "    print('lr_tfidf : \\taccuracy = %0.3f (+/-%0.3f) for %s'%(mean,std*2,params))"
   ]
  },
  {
   "cell_type": "markdown",
   "metadata": {},
   "source": [
    "<p>\n",
    "        **<font color='#D2691E'size=\"4\">II.2) Logistic regression : applying on the test data</font>**\n",
    "</p>"
   ]
  },
  {
   "cell_type": "code",
   "execution_count": 14,
   "metadata": {},
   "outputs": [
    {
     "name": "stdout",
     "output_type": "stream",
     "text": [
      "final accuracy on test data for clf_lr_count model is :0.272128749086\n",
      "final accuracy on test data for clf_lr_tfidf model is :0.297000731529 \n"
     ]
    }
   ],
   "source": [
    "y_pred_lr_count = clf_lr_count.predict(X_count_test)\n",
    "y_pred_lr_tfidf = clf_lr_tfidf.predict(X_tfidf_test)\n",
    "\n",
    "print(\"final accuracy on test data for clf_lr_count model is :%s\"%metrics.accuracy_score(y_test,y_pred_lr_count))\n",
    "print(\"final accuracy on test data for clf_lr_tfidf model is :%s \"%metrics.accuracy_score(y_test,y_pred_lr_tfidf))"
   ]
  },
  {
   "cell_type": "markdown",
   "metadata": {},
   "source": [
    "<p>\n",
    "        **<font color='#D2691E'size=\"4\">II.3) Logistic regression : final model</font>**\n",
    "</p>"
   ]
  },
  {
   "cell_type": "code",
   "execution_count": 15,
   "metadata": {},
   "outputs": [
    {
     "name": "stderr",
     "output_type": "stream",
     "text": [
      "c:\\python\\python36\\lib\\site-packages\\sklearn\\linear_model\\logistic.py:1228: UserWarning: 'n_jobs' > 1 does not have any effect when 'solver' is set to 'liblinear'. Got 'n_jobs' = 4.\n",
      "  \" = {}.\".format(self.n_jobs))\n"
     ]
    },
    {
     "name": "stdout",
     "output_type": "stream",
     "text": [
      "Accuracy is : 0.272128749086\n",
      "--- 13.60038161277771 seconds ---\n"
     ]
    }
   ],
   "source": [
    "start_time = time.time()\n",
    "log_regr_count = LogisticRegression(penalty=best_params_lr_count['penalty'],\n",
    "                                    C=best_params_lr_count['C'],\n",
    "                                    n_jobs=4)\n",
    "\n",
    "log_regr_count.fit(X_count_train,y_train)\n",
    "y_pred_log_regr_count  = log_regr_count.predict(X_count_test)\n",
    "\n",
    "print(\"Accuracy is : %s\"%metrics.accuracy_score(y_test,y_pred_log_regr_count ))\n",
    "print(\"--- %s seconds ---\" % (time.time() - start_time))"
   ]
  },
  {
   "cell_type": "code",
   "execution_count": 16,
   "metadata": {},
   "outputs": [
    {
     "name": "stderr",
     "output_type": "stream",
     "text": [
      "c:\\python\\python36\\lib\\site-packages\\sklearn\\linear_model\\logistic.py:1228: UserWarning: 'n_jobs' > 1 does not have any effect when 'solver' is set to 'liblinear'. Got 'n_jobs' = 4.\n",
      "  \" = {}.\".format(self.n_jobs))\n"
     ]
    },
    {
     "name": "stdout",
     "output_type": "stream",
     "text": [
      "Accuracy is : 0.193489392831\n",
      "--- 9.599199056625366 seconds ---\n"
     ]
    }
   ],
   "source": [
    "start_time = time.time()\n",
    "log_regr_tfidf = LogisticRegression(penalty=best_params_lr_tfidf['penalty'],\n",
    "                                    C=best_params_lr_tfidf['C'],\n",
    "                                    n_jobs=4)\n",
    "\n",
    "log_regr_tfidf.fit(X_tfidf_train,y_train)\n",
    "y_pred_log_regr_tfidf  = log_regr_tfidf.predict(X_tfidf_test)\n",
    "\n",
    "print(\"Accuracy is : %s\"%metrics.accuracy_score(y_test,y_pred_log_regr_tfidf ))\n",
    "print(\"--- %s seconds ---\" % (time.time() - start_time))"
   ]
  },
  {
   "cell_type": "markdown",
   "metadata": {},
   "source": [
    "<p>\n",
    "        **<font color='#D2691E'size=\"4\">III) Support Vector Classifier</font>**\n",
    "</p>"
   ]
  },
  {
   "cell_type": "markdown",
   "metadata": {},
   "source": [
    "<p>\n",
    "        **<font color='#D2691E'size=\"4\">III.1) Support Vector Classifier : cross validation</font>**\n",
    "</p>"
   ]
  },
  {
   "cell_type": "code",
   "execution_count": 17,
   "metadata": {},
   "outputs": [],
   "source": [
    "clf_svc_count  = model_selection.GridSearchCV(LinearSVC(),\n",
    "                                      {'C':[0.1,0.5,1.0]},\n",
    "                                       cv = 5,\n",
    "                                      scoring = 'accuracy')\n",
    "clf_svc_tfidf  = model_selection.GridSearchCV(LinearSVC(),\n",
    "                                      {'C':[0.1,0.5,1.0]},\n",
    "                                       cv = 5,\n",
    "                                      scoring = 'accuracy')"
   ]
  },
  {
   "cell_type": "code",
   "execution_count": 18,
   "metadata": {
    "scrolled": true
   },
   "outputs": [
    {
     "name": "stderr",
     "output_type": "stream",
     "text": [
      "c:\\python\\python36\\lib\\site-packages\\sklearn\\model_selection\\_split.py:605: Warning: The least populated class in y has only 4 members, which is too few. The minimum number of members in any class cannot be less than n_splits=5.\n",
      "  % (min_groups, self.n_splits)), Warning)\n"
     ]
    },
    {
     "name": "stdout",
     "output_type": "stream",
     "text": [
      "--- 810.5215668678284 seconds to fit the svc_count model---\n"
     ]
    },
    {
     "name": "stderr",
     "output_type": "stream",
     "text": [
      "c:\\python\\python36\\lib\\site-packages\\sklearn\\model_selection\\_split.py:605: Warning: The least populated class in y has only 4 members, which is too few. The minimum number of members in any class cannot be less than n_splits=5.\n",
      "  % (min_groups, self.n_splits)), Warning)\n"
     ]
    },
    {
     "name": "stdout",
     "output_type": "stream",
     "text": [
      "--- 125.47753572463989 seconds to fit the svc_tfidf model---\n"
     ]
    }
   ],
   "source": [
    "#We fit the grid search classifiers :\n",
    "start_time = time.time()\n",
    "clf_svc_count.fit(X_count_train,y_train)\n",
    "print(\"--- %s seconds to fit the svc_count model---\" % (time.time() - start_time))\n",
    "\n",
    "start_time = time.time()\n",
    "clf_svc_tfidf.fit(X_tfidf_train,y_train)\n",
    "print(\"--- %s seconds to fit the svc_tfidf model---\" % (time.time() - start_time))"
   ]
  },
  {
   "cell_type": "code",
   "execution_count": 19,
   "metadata": {},
   "outputs": [
    {
     "name": "stdout",
     "output_type": "stream",
     "text": [
      "best_params_svc_count : {'C': 0.1}\n",
      "best_params_svc_tfidf : {'C': 0.1}\n"
     ]
    }
   ],
   "source": [
    "#Bests parameters are : \n",
    "best_params_svc_count = clf_svc_count.best_params_\n",
    "best_params_svc_tfidf = clf_svc_tfidf.best_params_\n",
    "print(\"best_params_svc_count : %s\"%best_params_svc_count)\n",
    "print(\"best_params_svc_tfidf : %s\"%best_params_svc_tfidf)"
   ]
  },
  {
   "cell_type": "code",
   "execution_count": 20,
   "metadata": {},
   "outputs": [
    {
     "name": "stdout",
     "output_type": "stream",
     "text": [
      "svc_count : \taccuracy = 0.205 (+/-0.059) for {'C': 0.1}\n",
      "svc_count : \taccuracy = 0.193 (+/-0.057) for {'C': 0.5}\n",
      "svc_count : \taccuracy = 0.190 (+/-0.055) for {'C': 1.0}\n"
     ]
    }
   ],
   "source": [
    "#Resulting performances with each hyperparameters are : \n",
    "for mean, std, params in zip(clf_svc_count.cv_results_['mean_test_score'],\n",
    "                            clf_svc_count.cv_results_['std_test_score'],\n",
    "                            clf_svc_count.cv_results_['params']):\n",
    "    print('svc_count : \\taccuracy = %0.3f (+/-%0.3f) for %s'%(mean,std*2,params))"
   ]
  },
  {
   "cell_type": "code",
   "execution_count": 21,
   "metadata": {},
   "outputs": [
    {
     "name": "stdout",
     "output_type": "stream",
     "text": [
      "svc_tfidf : \taccuracy = 0.277 (+/-0.037) for {'C': 0.1}\n",
      "svc_tfidf : \taccuracy = 0.230 (+/-0.061) for {'C': 0.5}\n",
      "svc_tfidf : \taccuracy = 0.220 (+/-0.067) for {'C': 1.0}\n"
     ]
    }
   ],
   "source": [
    "for mean, std, params in zip(clf_svc_tfidf.cv_results_['mean_test_score'],\n",
    "                            clf_svc_tfidf.cv_results_['std_test_score'],\n",
    "                            clf_svc_tfidf.cv_results_['params']):\n",
    "    print('svc_tfidf : \\taccuracy = %0.3f (+/-%0.3f) for %s'%(mean,std*2,params))"
   ]
  },
  {
   "cell_type": "markdown",
   "metadata": {},
   "source": [
    "<p>\n",
    "        **<font color='#D2691E'size=\"4\">III.2) Support Vector Classifier : applying on the test data</font>**\n",
    "</p>"
   ]
  },
  {
   "cell_type": "code",
   "execution_count": 22,
   "metadata": {
    "scrolled": true
   },
   "outputs": [
    {
     "name": "stdout",
     "output_type": "stream",
     "text": [
      "final accuracy on test data for clf_lr_count model is : 0.293343087052\n",
      "final accuracy on test data for clf_lr_tfidf model is : 0.329553767374\n"
     ]
    }
   ],
   "source": [
    "y_pred_svc_count = clf_svc_count.predict(X_count_test)\n",
    "y_pred_svc_tfidf = clf_svc_tfidf.predict(X_tfidf_test)\n",
    "\n",
    "print(\"final accuracy on test data for clf_lr_count model is : %s\"%metrics.accuracy_score(y_test,y_pred_svc_count))\n",
    "print(\"final accuracy on test data for clf_lr_tfidf model is : %s\"%metrics.accuracy_score(y_test,y_pred_svc_tfidf))"
   ]
  },
  {
   "cell_type": "markdown",
   "metadata": {},
   "source": [
    "<p>\n",
    "        **<font color='#D2691E'size=\"4\">III.3) Support Vector Classifier : final model</font>**\n",
    "</p>"
   ]
  },
  {
   "cell_type": "code",
   "execution_count": 23,
   "metadata": {},
   "outputs": [
    {
     "name": "stdout",
     "output_type": "stream",
     "text": [
      "Accuracy is : 0.293343087052\n",
      "--- 47.3246796131134 seconds ---\n"
     ]
    }
   ],
   "source": [
    "start_time = time.time()\n",
    "svc_count = LinearSVC(C = best_params_svc_count['C'])\n",
    "\n",
    "svc_count.fit(X_count_train,y_train)\n",
    "y_pred_svc_count = svc_count.predict(X_count_test)\n",
    "\n",
    "print(\"Accuracy is : %s\"%metrics.accuracy_score(y_test,y_pred_svc_count))\n",
    "print(\"--- %s seconds ---\" % (time.time() - start_time))"
   ]
  },
  {
   "cell_type": "code",
   "execution_count": 24,
   "metadata": {},
   "outputs": [
    {
     "name": "stdout",
     "output_type": "stream",
     "text": [
      "Accuracy is : 0.329553767374\n",
      "--- 6.9831273555755615 seconds ---\n"
     ]
    }
   ],
   "source": [
    "start_time = time.time()\n",
    "svc_tfidf = LinearSVC(C = best_params_svc_tfidf['C'])\n",
    "\n",
    "svc_tfidf.fit(X_tfidf_train,y_train)\n",
    "y_pred_svc_tfidf = svc_tfidf.predict(X_tfidf_test)\n",
    "\n",
    "print(\"Accuracy is : %s\"%metrics.accuracy_score(y_test,y_pred_svc_tfidf))\n",
    "print(\"--- %s seconds ---\" % (time.time() - start_time))"
   ]
  },
  {
   "cell_type": "code",
   "execution_count": null,
   "metadata": {},
   "outputs": [],
   "source": []
  },
  {
   "cell_type": "markdown",
   "metadata": {},
   "source": [
    "<p>\n",
    "        **<font color='#D2691E'size=\"4\">IV) Random Forest</font>**\n",
    "</p>"
   ]
  },
  {
   "cell_type": "markdown",
   "metadata": {},
   "source": [
    "<p>\n",
    "        **<font color='#D2691E'size=\"4\">IV.1) Random Forest : cross validation</font>**\n",
    "</p>"
   ]
  },
  {
   "cell_type": "code",
   "execution_count": 25,
   "metadata": {},
   "outputs": [],
   "source": [
    "clf_rf_count  = model_selection.GridSearchCV(RandomForestClassifier(),\n",
    "                                      {'n_estimators':[100,500,1000,1500],\n",
    "                                      'max_features':[2,5,10],\n",
    "                                      'n_jobs':[4]},\n",
    "                                      cv = 5,\n",
    "                                      scoring = 'accuracy')\n",
    "clf_rf_tfidf  = model_selection.GridSearchCV(RandomForestClassifier(),\n",
    "                                      {'n_estimators':[100,500,1000,1500],\n",
    "                                      'max_features':[2,5,10],\n",
    "                                      'n_jobs':[4]},\n",
    "                                      cv = 5,\n",
    "                                      scoring = 'accuracy')"
   ]
  },
  {
   "cell_type": "code",
   "execution_count": 26,
   "metadata": {
    "scrolled": true
   },
   "outputs": [
    {
     "name": "stderr",
     "output_type": "stream",
     "text": [
      "c:\\python\\python36\\lib\\site-packages\\sklearn\\model_selection\\_split.py:605: Warning: The least populated class in y has only 4 members, which is too few. The minimum number of members in any class cannot be less than n_splits=5.\n",
      "  % (min_groups, self.n_splits)), Warning)\n"
     ]
    },
    {
     "name": "stdout",
     "output_type": "stream",
     "text": [
      "--- 6510.74640083313 seconds to fit the svc_count model---\n"
     ]
    },
    {
     "name": "stderr",
     "output_type": "stream",
     "text": [
      "c:\\python\\python36\\lib\\site-packages\\sklearn\\model_selection\\_split.py:605: Warning: The least populated class in y has only 4 members, which is too few. The minimum number of members in any class cannot be less than n_splits=5.\n",
      "  % (min_groups, self.n_splits)), Warning)\n"
     ]
    },
    {
     "name": "stdout",
     "output_type": "stream",
     "text": [
      "--- 5700.837050199509 seconds to fit the svc_tfidf model---\n"
     ]
    }
   ],
   "source": [
    "#We fit the grid search classifiers :\n",
    "start_time = time.time()\n",
    "clf_rf_count.fit(X_count_train,y_train)\n",
    "print(\"--- %s seconds to fit the svc_count model---\" % (time.time() - start_time))\n",
    "\n",
    "start_time = time.time()\n",
    "clf_rf_tfidf.fit(X_tfidf_train,y_train)\n",
    "print(\"--- %s seconds to fit the svc_tfidf model---\" % (time.time() - start_time))"
   ]
  },
  {
   "cell_type": "code",
   "execution_count": 27,
   "metadata": {},
   "outputs": [
    {
     "name": "stdout",
     "output_type": "stream",
     "text": [
      "best_params_rf_count : {'max_features': 10, 'n_estimators': 1500, 'n_jobs': 4}\n",
      "best_params_rf_count : {'max_features': 10, 'n_estimators': 1500, 'n_jobs': 4}\n"
     ]
    }
   ],
   "source": [
    "#Bests parameters are : \n",
    "best_params_rf_count = clf_rf_count.best_params_\n",
    "best_params_rf_tfidf = clf_rf_tfidf.best_params_\n",
    "print(\"best_params_rf_count : %s\"%best_params_rf_count)\n",
    "print(\"best_params_rf_tfidf : %s\"%best_params_rf_tfidf)"
   ]
  },
  {
   "cell_type": "code",
   "execution_count": 28,
   "metadata": {},
   "outputs": [
    {
     "name": "stdout",
     "output_type": "stream",
     "text": [
      "rf_count : \taccuracy = 0.160 (+/-0.054) for {'max_features': 2, 'n_estimators': 100, 'n_jobs': 4}\n",
      "rf_count : \taccuracy = 0.177 (+/-0.055) for {'max_features': 2, 'n_estimators': 500, 'n_jobs': 4}\n",
      "rf_count : \taccuracy = 0.180 (+/-0.057) for {'max_features': 2, 'n_estimators': 1000, 'n_jobs': 4}\n",
      "rf_count : \taccuracy = 0.180 (+/-0.052) for {'max_features': 2, 'n_estimators': 1500, 'n_jobs': 4}\n",
      "rf_count : \taccuracy = 0.184 (+/-0.050) for {'max_features': 5, 'n_estimators': 100, 'n_jobs': 4}\n",
      "rf_count : \taccuracy = 0.198 (+/-0.056) for {'max_features': 5, 'n_estimators': 500, 'n_jobs': 4}\n",
      "rf_count : \taccuracy = 0.199 (+/-0.059) for {'max_features': 5, 'n_estimators': 1000, 'n_jobs': 4}\n",
      "rf_count : \taccuracy = 0.201 (+/-0.059) for {'max_features': 5, 'n_estimators': 1500, 'n_jobs': 4}\n",
      "rf_count : \taccuracy = 0.197 (+/-0.053) for {'max_features': 10, 'n_estimators': 100, 'n_jobs': 4}\n",
      "rf_count : \taccuracy = 0.207 (+/-0.058) for {'max_features': 10, 'n_estimators': 500, 'n_jobs': 4}\n",
      "rf_count : \taccuracy = 0.209 (+/-0.064) for {'max_features': 10, 'n_estimators': 1000, 'n_jobs': 4}\n",
      "rf_count : \taccuracy = 0.212 (+/-0.061) for {'max_features': 10, 'n_estimators': 1500, 'n_jobs': 4}\n"
     ]
    }
   ],
   "source": [
    "#Resulting performances with each hyperparameters are : \n",
    "for mean, std, params in zip(clf_rf_count.cv_results_['mean_test_score'],\n",
    "                            clf_rf_count.cv_results_['std_test_score'],\n",
    "                            clf_rf_count.cv_results_['params']):\n",
    "    print('rf_count : \\taccuracy = %0.3f (+/-%0.3f) for %s'%(mean,std*2,params))"
   ]
  },
  {
   "cell_type": "code",
   "execution_count": 29,
   "metadata": {},
   "outputs": [
    {
     "name": "stdout",
     "output_type": "stream",
     "text": [
      "rf_tfidf : \taccuracy = 0.167 (+/-0.050) for {'max_features': 2, 'n_estimators': 100, 'n_jobs': 4}\n",
      "rf_tfidf : \taccuracy = 0.184 (+/-0.058) for {'max_features': 2, 'n_estimators': 500, 'n_jobs': 4}\n",
      "rf_tfidf : \taccuracy = 0.185 (+/-0.051) for {'max_features': 2, 'n_estimators': 1000, 'n_jobs': 4}\n",
      "rf_tfidf : \taccuracy = 0.187 (+/-0.051) for {'max_features': 2, 'n_estimators': 1500, 'n_jobs': 4}\n",
      "rf_tfidf : \taccuracy = 0.191 (+/-0.056) for {'max_features': 5, 'n_estimators': 100, 'n_jobs': 4}\n",
      "rf_tfidf : \taccuracy = 0.202 (+/-0.059) for {'max_features': 5, 'n_estimators': 500, 'n_jobs': 4}\n",
      "rf_tfidf : \taccuracy = 0.206 (+/-0.056) for {'max_features': 5, 'n_estimators': 1000, 'n_jobs': 4}\n",
      "rf_tfidf : \taccuracy = 0.208 (+/-0.054) for {'max_features': 5, 'n_estimators': 1500, 'n_jobs': 4}\n",
      "rf_tfidf : \taccuracy = 0.206 (+/-0.053) for {'max_features': 10, 'n_estimators': 100, 'n_jobs': 4}\n",
      "rf_tfidf : \taccuracy = 0.214 (+/-0.057) for {'max_features': 10, 'n_estimators': 500, 'n_jobs': 4}\n",
      "rf_tfidf : \taccuracy = 0.214 (+/-0.054) for {'max_features': 10, 'n_estimators': 1000, 'n_jobs': 4}\n",
      "rf_tfidf : \taccuracy = 0.216 (+/-0.055) for {'max_features': 10, 'n_estimators': 1500, 'n_jobs': 4}\n"
     ]
    }
   ],
   "source": [
    "for mean, std, params in zip(clf_rf_tfidf.cv_results_['mean_test_score'],\n",
    "                            clf_rf_tfidf.cv_results_['std_test_score'],\n",
    "                            clf_rf_tfidf.cv_results_['params']):\n",
    "    print('rf_tfidf : \\taccuracy = %0.3f (+/-%0.3f) for %s'%(mean,std*2,params))"
   ]
  },
  {
   "cell_type": "markdown",
   "metadata": {},
   "source": [
    "<p>\n",
    "        **<font color='#D2691E'size=\"4\">IV.2) Random Forest : applying on the test data</font>**\n",
    "</p>"
   ]
  },
  {
   "cell_type": "code",
   "execution_count": 30,
   "metadata": {},
   "outputs": [
    {
     "name": "stdout",
     "output_type": "stream",
     "text": [
      "final accuracy on test data for clf_lr_count model is : 0.292611558157\n",
      "final accuracy on test data for clf_lr_tfidf model is : 0.296269202634\n"
     ]
    }
   ],
   "source": [
    "y_pred_rf_count = clf_rf_count.predict(X_count_test)\n",
    "y_pred_rf_tfidf = clf_rf_tfidf.predict(X_tfidf_test)\n",
    "\n",
    "print(\"final accuracy on test data for clf_lr_count model is : %s\"%metrics.accuracy_score(y_test,y_pred_rf_count))\n",
    "print(\"final accuracy on test data for clf_lr_tfidf model is : %s\"%metrics.accuracy_score(y_test,y_pred_rf_tfidf))"
   ]
  },
  {
   "cell_type": "markdown",
   "metadata": {},
   "source": [
    "<p>\n",
    "        **<font color='#D2691E'size=\"4\">IV.3) Random Forest : final model</font>**\n",
    "</p>"
   ]
  },
  {
   "cell_type": "code",
   "execution_count": 31,
   "metadata": {
    "scrolled": true
   },
   "outputs": [
    {
     "name": "stdout",
     "output_type": "stream",
     "text": [
      "Accuracy is : 0.291514264813\n",
      "--- 1689.4457449913025 seconds ---\n"
     ]
    }
   ],
   "source": [
    "start_time = time.time()\n",
    "r_forest_count = RandomForestClassifier(n_estimators=best_params_rf_count['n_estimators'],\n",
    "                                         max_features=best_params_rf_count['max_features'])\n",
    "\n",
    "r_forest_count.fit(X_count_train,y_train)\n",
    "y_pred_r_forest_count  = r_forest_count.predict(X_count_test) \n",
    "\n",
    "print(\"Accuracy is : %s\"%metrics.accuracy_score(y_test,y_pred_r_forest_count ))\n",
    "print(\"--- %s seconds ---\" % (time.time() - start_time))"
   ]
  },
  {
   "cell_type": "code",
   "execution_count": 35,
   "metadata": {
    "scrolled": true
   },
   "outputs": [
    {
     "ename": "MemoryError",
     "evalue": "",
     "output_type": "error",
     "traceback": [
      "\u001b[1;31m---------------------------------------------------------------------------\u001b[0m",
      "\u001b[1;31mMemoryError\u001b[0m                               Traceback (most recent call last)",
      "\u001b[1;32m<ipython-input-35-e668238b7cd8>\u001b[0m in \u001b[0;36m<module>\u001b[1;34m()\u001b[0m\n\u001b[0;32m      3\u001b[0m                                          max_features=best_params_rf_tfidf['max_features'])\n\u001b[0;32m      4\u001b[0m \u001b[1;33m\u001b[0m\u001b[0m\n\u001b[1;32m----> 5\u001b[1;33m \u001b[0mr_forest_tfidf\u001b[0m\u001b[1;33m.\u001b[0m\u001b[0mfit\u001b[0m\u001b[1;33m(\u001b[0m\u001b[0mX_tfidf_train\u001b[0m\u001b[1;33m,\u001b[0m\u001b[0my_train\u001b[0m\u001b[1;33m)\u001b[0m\u001b[1;33m\u001b[0m\u001b[0m\n\u001b[0m\u001b[0;32m      6\u001b[0m \u001b[0my_pred_r_forest_tfidf\u001b[0m  \u001b[1;33m=\u001b[0m \u001b[0mr_forest_tfidf\u001b[0m\u001b[1;33m.\u001b[0m\u001b[0mpredict\u001b[0m\u001b[1;33m(\u001b[0m\u001b[0mX_tfidf_test\u001b[0m\u001b[1;33m)\u001b[0m\u001b[1;33m\u001b[0m\u001b[0m\n\u001b[0;32m      7\u001b[0m \u001b[1;33m\u001b[0m\u001b[0m\n",
      "\u001b[1;32mc:\\python\\python36\\lib\\site-packages\\sklearn\\ensemble\\forest.py\u001b[0m in \u001b[0;36mfit\u001b[1;34m(self, X, y, sample_weight)\u001b[0m\n\u001b[0;32m    245\u001b[0m         \"\"\"\n\u001b[0;32m    246\u001b[0m         \u001b[1;31m# Validate or convert input data\u001b[0m\u001b[1;33m\u001b[0m\u001b[1;33m\u001b[0m\u001b[0m\n\u001b[1;32m--> 247\u001b[1;33m         \u001b[0mX\u001b[0m \u001b[1;33m=\u001b[0m \u001b[0mcheck_array\u001b[0m\u001b[1;33m(\u001b[0m\u001b[0mX\u001b[0m\u001b[1;33m,\u001b[0m \u001b[0maccept_sparse\u001b[0m\u001b[1;33m=\u001b[0m\u001b[1;34m\"csc\"\u001b[0m\u001b[1;33m,\u001b[0m \u001b[0mdtype\u001b[0m\u001b[1;33m=\u001b[0m\u001b[0mDTYPE\u001b[0m\u001b[1;33m)\u001b[0m\u001b[1;33m\u001b[0m\u001b[0m\n\u001b[0m\u001b[0;32m    248\u001b[0m         \u001b[0my\u001b[0m \u001b[1;33m=\u001b[0m \u001b[0mcheck_array\u001b[0m\u001b[1;33m(\u001b[0m\u001b[0my\u001b[0m\u001b[1;33m,\u001b[0m \u001b[0maccept_sparse\u001b[0m\u001b[1;33m=\u001b[0m\u001b[1;34m'csc'\u001b[0m\u001b[1;33m,\u001b[0m \u001b[0mensure_2d\u001b[0m\u001b[1;33m=\u001b[0m\u001b[1;32mFalse\u001b[0m\u001b[1;33m,\u001b[0m \u001b[0mdtype\u001b[0m\u001b[1;33m=\u001b[0m\u001b[1;32mNone\u001b[0m\u001b[1;33m)\u001b[0m\u001b[1;33m\u001b[0m\u001b[0m\n\u001b[0;32m    249\u001b[0m         \u001b[1;32mif\u001b[0m \u001b[0msample_weight\u001b[0m \u001b[1;32mis\u001b[0m \u001b[1;32mnot\u001b[0m \u001b[1;32mNone\u001b[0m\u001b[1;33m:\u001b[0m\u001b[1;33m\u001b[0m\u001b[0m\n",
      "\u001b[1;32mc:\\python\\python36\\lib\\site-packages\\sklearn\\utils\\validation.py\u001b[0m in \u001b[0;36mcheck_array\u001b[1;34m(array, accept_sparse, dtype, order, copy, force_all_finite, ensure_2d, allow_nd, ensure_min_samples, ensure_min_features, warn_on_dtype, estimator)\u001b[0m\n\u001b[0;32m    431\u001b[0m                                       force_all_finite)\n\u001b[0;32m    432\u001b[0m     \u001b[1;32melse\u001b[0m\u001b[1;33m:\u001b[0m\u001b[1;33m\u001b[0m\u001b[0m\n\u001b[1;32m--> 433\u001b[1;33m         \u001b[0marray\u001b[0m \u001b[1;33m=\u001b[0m \u001b[0mnp\u001b[0m\u001b[1;33m.\u001b[0m\u001b[0marray\u001b[0m\u001b[1;33m(\u001b[0m\u001b[0marray\u001b[0m\u001b[1;33m,\u001b[0m \u001b[0mdtype\u001b[0m\u001b[1;33m=\u001b[0m\u001b[0mdtype\u001b[0m\u001b[1;33m,\u001b[0m \u001b[0morder\u001b[0m\u001b[1;33m=\u001b[0m\u001b[0morder\u001b[0m\u001b[1;33m,\u001b[0m \u001b[0mcopy\u001b[0m\u001b[1;33m=\u001b[0m\u001b[0mcopy\u001b[0m\u001b[1;33m)\u001b[0m\u001b[1;33m\u001b[0m\u001b[0m\n\u001b[0m\u001b[0;32m    434\u001b[0m \u001b[1;33m\u001b[0m\u001b[0m\n\u001b[0;32m    435\u001b[0m         \u001b[1;32mif\u001b[0m \u001b[0mensure_2d\u001b[0m\u001b[1;33m:\u001b[0m\u001b[1;33m\u001b[0m\u001b[0m\n",
      "\u001b[1;31mMemoryError\u001b[0m: "
     ]
    }
   ],
   "source": [
    "start_time = time.time()\n",
    "r_forest_tfidf = RandomForestClassifier(n_estimators=best_params_rf_tfidf['n_estimators'],\n",
    "                                         max_features=best_params_rf_tfidf['max_features'])\n",
    "\n",
    "r_forest_tfidf.fit(X_tfidf_train,y_train)\n",
    "y_pred_r_forest_tfidf  = r_forest_tfidf.predict(X_tfidf_test)\n",
    "\n",
    "print(\"Accuracy is : %s\"%metrics.accuracy_score(y_test,y_pred_r_forest_tfidf ))\n",
    "print(\"--- %s seconds ---\" % (time.time() - start_time))"
   ]
  },
  {
   "cell_type": "code",
   "execution_count": null,
   "metadata": {},
   "outputs": [],
   "source": []
  },
  {
   "cell_type": "code",
   "execution_count": null,
   "metadata": {},
   "outputs": [],
   "source": [
    "print(\"--- %s seconds ---\" % (time.time() - global_start_time))"
   ]
  },
  {
   "cell_type": "code",
   "execution_count": null,
   "metadata": {},
   "outputs": [],
   "source": []
  }
 ],
 "metadata": {
  "kernelspec": {
   "display_name": "Python 3",
   "language": "python",
   "name": "python3"
  },
  "language_info": {
   "codemirror_mode": {
    "name": "ipython",
    "version": 3
   },
   "file_extension": ".py",
   "mimetype": "text/x-python",
   "name": "python",
   "nbconvert_exporter": "python",
   "pygments_lexer": "ipython3",
   "version": "3.6.4"
  }
 },
 "nbformat": 4,
 "nbformat_minor": 2
}
